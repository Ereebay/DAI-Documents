{
 "cells": [
  {
   "cell_type": "code",
   "execution_count": 4,
   "metadata": {},
   "outputs": [
    {
     "name": "stdout",
     "output_type": "stream",
     "text": [
      "0 [0.5318089] [0.10259939]\n",
      "20 [0.21755672] [0.24037725]\n",
      "40 [0.13266322] [0.2834338]\n",
      "60 [0.10907551] [0.29539707]\n",
      "80 [0.10252164] [0.29872108]\n",
      "100 [0.10070065] [0.29964465]\n",
      "120 [0.10019468] [0.29990128]\n",
      "140 [0.10005409] [0.2999726]\n",
      "160 [0.10001504] [0.29999238]\n",
      "180 [0.10000419] [0.2999979]\n",
      "200 [0.10000117] [0.29999942]\n"
     ]
    }
   ],
   "source": [
    "import tensorflow as tf\n",
    "import numpy as np\n",
    "\n",
    "# 创建数据\n",
    "x_data=np.random.rand(100).astype(np.float32)\n",
    "y_data=x_data*0.1+0.3\n",
    "\n",
    "# 搭建模型\n",
    "weights=tf.Variable(tf.random_uniform([1],-1.0,1.0))\n",
    "biases=tf.Variable(tf.zeros([1]))\n",
    "y=weights*x_data+biases\n",
    "\n",
    "# 计算误差\n",
    "loss=tf.reduce_mean(tf.square(y-y_data))\n",
    "\n",
    "# 传播误差\n",
    "optimizer=tf.train.GradientDescentOptimizer(0.5)\n",
    "train=optimizer.minimize(loss)\n",
    "\n",
    "# 训练\n",
    "init=tf.global_variables_initializer()  #初始化之前定义的Variable\n",
    "\n",
    "sess=tf.Session()\n",
    "sess.run(init)\n",
    "\n",
    "for step in range(201):\n",
    "    sess.run(train)\n",
    "    if step % 20 ==0:\n",
    "        print(step,sess.run(weights),sess.run(biases))\n",
    "sess.close()"
   ]
  },
  {
   "cell_type": "code",
   "execution_count": 5,
   "metadata": {},
   "outputs": [
    {
     "name": "stdout",
     "output_type": "stream",
     "text": [
      "0 [0.1921718] [0.334514]\n",
      "20 [0.11650151] [0.29163072]\n",
      "40 [0.10458497] [0.2976746]\n",
      "60 [0.10127394] [0.2993539]\n",
      "80 [0.10035397] [0.29982048]\n",
      "100 [0.10009834] [0.29995012]\n",
      "120 [0.10002733] [0.29998615]\n",
      "140 [0.1000076] [0.29999617]\n",
      "160 [0.10000212] [0.29999894]\n",
      "180 [0.1000006] [0.2999997]\n",
      "200 [0.10000017] [0.29999992]\n"
     ]
    }
   ],
   "source": [
    "with tf.Session() as sess1:\n",
    "    sess1.run(init)\n",
    "    for step in range(201):\n",
    "        sess1.run(train)\n",
    "        if step % 20 ==0:\n",
    "            print(step,sess1.run(weights),sess1.run(biases))"
   ]
  },
  {
   "cell_type": "code",
   "execution_count": 7,
   "metadata": {},
   "outputs": [
    {
     "name": "stdout",
     "output_type": "stream",
     "text": [
      "1\n",
      "2\n",
      "3\n"
     ]
    }
   ],
   "source": [
    "import tensorflow as tf \n",
    "state=tf.Variable(0,name='counter')\n",
    "# print(state.name)\n",
    "one=tf.constant(1)\n",
    "\n",
    "new_value=tf.add(state,one)\n",
    "uodate=tf.assign(state,new_value)\n",
    "\n",
    "init=tf.global_variables_initializer()\n",
    "\n",
    "with tf.Session() as sess2:\n",
    "    sess2.run(init)\n",
    "    for _ in range(3):\n",
    "        sess2.run(uodate)\n",
    "        print(sess2.run(state))"
   ]
  },
  {
   "cell_type": "code",
   "execution_count": 15,
   "metadata": {},
   "outputs": [
    {
     "name": "stdout",
     "output_type": "stream",
     "text": [
      "[14.]\n"
     ]
    }
   ],
   "source": [
    "import tensorflow as tf\n",
    "\n",
    "input1=tf.placeholder(tf.float32)\n",
    "imput2=tf.placeholder(tf.float32)\n",
    "\n",
    "outper=tf.multiply(input1,imput2)\n",
    "\n",
    "with tf.Session() as sess3:\n",
    "    print(sess3.run(outper,feed_dict={input1:[7.0],imput2:[2.0]}))"
   ]
  }
 ],
 "metadata": {
  "kernelspec": {
   "display_name": "Python 3",
   "language": "python",
   "name": "python3"
  },
  "language_info": {
   "codemirror_mode": {
    "name": "ipython",
    "version": 3
   },
   "file_extension": ".py",
   "mimetype": "text/x-python",
   "name": "python",
   "nbconvert_exporter": "python",
   "pygments_lexer": "ipython3",
   "version": "3.5.4"
  }
 },
 "nbformat": 4,
 "nbformat_minor": 2
}

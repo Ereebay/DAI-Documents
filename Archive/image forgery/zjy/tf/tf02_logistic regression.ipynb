{
 "cells": [
  {
   "cell_type": "code",
   "execution_count": 1,
   "metadata": {},
   "outputs": [
    {
     "name": "stdout",
     "output_type": "stream",
     "text": [
      "WARNING:tensorflow:From e:\\program\\python\\python35\\lib\\site-packages\\tensorflow\\contrib\\learn\\python\\learn\\datasets\\base.py:198: retry (from tensorflow.contrib.learn.python.learn.datasets.base) is deprecated and will be removed in a future version.\n",
      "Instructions for updating:\n",
      "Use the retry module or similar alternatives.\n"
     ]
    }
   ],
   "source": [
    "import os\n",
    "os.environ['TF_CPP_MIN_LOG_LEVEL']='2'\n",
    "\n",
    "import numpy as np\n",
    "import tensorflow as tf\n",
    "import time\n",
    "\n",
    "import utils"
   ]
  },
  {
   "cell_type": "code",
   "execution_count": 3,
   "metadata": {},
   "outputs": [],
   "source": [
    "# Define paramaters for the model\n",
    "learning_rate = 0.01\n",
    "batch_size = 128\n",
    "n_epochs = 30"
   ]
  },
  {
   "cell_type": "code",
   "execution_count": 10,
   "metadata": {},
   "outputs": [
    {
     "name": "stdout",
     "output_type": "stream",
     "text": [
      "Extracting MNIST_DATA\\train-images-idx3-ubyte.gz\n",
      "Extracting MNIST_DATA\\train-labels-idx1-ubyte.gz\n",
      "Extracting MNIST_DATA\\t10k-images-idx3-ubyte.gz\n",
      "Extracting MNIST_DATA\\t10k-labels-idx1-ubyte.gz\n"
     ]
    }
   ],
   "source": [
    "# Step 1: Read in data\n",
    "#using TF Learn's built in function to load MNIST data to the folder data/mnist\n",
    "from tensorflow.examples.tutorials.mnist import input_data\n",
    "mnist = input_data.read_data_sets('MNIST_DATA', one_hot = True)"
   ]
  },
  {
   "cell_type": "code",
   "execution_count": 5,
   "metadata": {},
   "outputs": [],
   "source": [
    "# Step 2: Create placeholders for features and labels\n",
    "#each image in the MNIST data is of shape 28*28 = 784\n",
    "#therefore, each image is represented with a 1*784 tensor\n",
    "#there are 10 classes for each image, corresponding to digits 0 - 9\n",
    "# each lable is one hot vector\n",
    "\n",
    "X = tf.placeholder(tf.float32, [batch_size, 784], name='X_placeholder')\n",
    "Y= tf.placeholder(tf.float32, [batch_size, 10], name='Y_placeholder')"
   ]
  },
  {
   "cell_type": "code",
   "execution_count": 6,
   "metadata": {},
   "outputs": [
    {
     "data": {
      "text/plain": [
       "<tf.Tensor 'biases:0' shape=() dtype=string>"
      ]
     },
     "execution_count": 6,
     "metadata": {},
     "output_type": "execute_result"
    }
   ],
   "source": [
    "# Step 3: create weights and bias\n",
    "# w is initialized to random variables with mean of 0, stddev of 0.01\n",
    "# b is initialized to 0\n",
    "# shape of w depends on the dimension of X and Y so that Y = tf.matmul(X, w)\n",
    "# shape of b depends on Y\n",
    "\n",
    "w = tf.Variable(tf.random_normal(shape=[784, 10], stddev= 0.01), name='weights')\n",
    "tf.summary.histogram(\"weights\",w) #可视化观看变量\n",
    "\n",
    "b = tf.Variable(tf.zeros([1, 10]), name=\"bias\")\n",
    "tf.summary.histogram(\"biases\",b) #可视化观看变量"
   ]
  },
  {
   "cell_type": "code",
   "execution_count": 7,
   "metadata": {},
   "outputs": [],
   "source": [
    "# Step 4: build model\n",
    "# the model that returns the logits\n",
    "# this logits will be later passed through softmax layer\n",
    "\n",
    "y_predicted = tf.matmul(X, w) + b"
   ]
  },
  {
   "cell_type": "code",
   "execution_count": 8,
   "metadata": {},
   "outputs": [
    {
     "name": "stdout",
     "output_type": "stream",
     "text": [
      "WARNING:tensorflow:From <ipython-input-8-1b6330a89b12>:4: softmax_cross_entropy_with_logits (from tensorflow.python.ops.nn_ops) is deprecated and will be removed in a future version.\n",
      "Instructions for updating:\n",
      "\n",
      "Future major versions of TensorFlow will allow gradients to flow\n",
      "into the labels input on backprop by default.\n",
      "\n",
      "See tf.nn.softmax_cross_entropy_with_logits_v2.\n",
      "\n"
     ]
    },
    {
     "data": {
      "text/plain": [
       "<tf.Tensor 'loss_1:0' shape=() dtype=string>"
      ]
     },
     "execution_count": 8,
     "metadata": {},
     "output_type": "execute_result"
    }
   ],
   "source": [
    "# Step 5: define loss function\n",
    "# use cross entropy of softmax of logits as the loss function\n",
    "\n",
    "entropy = tf.nn.softmax_cross_entropy_with_logits(labels=Y, logits = y_predicted, name='loss')\n",
    "# computes the mean over all the examples in the batch\n",
    "loss = tf.reduce_mean(entropy)\n",
    "tf.summary.histogram(\"loss\",loss) #可视化观看变量"
   ]
  },
  {
   "cell_type": "code",
   "execution_count": 9,
   "metadata": {},
   "outputs": [
    {
     "name": "stdout",
     "output_type": "stream",
     "text": [
      "Average loss epoch 0: 1.2869023893262956\n",
      "Average loss epoch 1: 0.7326213213113638\n",
      "Average loss epoch 2: 0.6006098071456233\n",
      "Average loss epoch 3: 0.5366255961931669\n",
      "Average loss epoch 4: 0.49805550503008295\n",
      "Average loss epoch 5: 0.4714476910782305\n",
      "Average loss epoch 6: 0.45080521438783144\n",
      "Average loss epoch 7: 0.436402122388075\n",
      "Average loss epoch 8: 0.4242247862693591\n",
      "Average loss epoch 9: 0.4124554686057262\n",
      "Average loss epoch 10: 0.4043899706124148\n",
      "Average loss epoch 11: 0.39680068535265667\n",
      "Average loss epoch 12: 0.39000507060325507\n",
      "Average loss epoch 13: 0.3843660047560027\n",
      "Average loss epoch 14: 0.3789723893770805\n",
      "Average loss epoch 15: 0.3752240930403863\n",
      "Average loss epoch 16: 0.3705409522795733\n",
      "Average loss epoch 17: 0.36530268612580424\n",
      "Average loss epoch 18: 0.3639358791646424\n",
      "Average loss epoch 19: 0.358975140330119\n",
      "Average loss epoch 20: 0.35614274921533945\n",
      "Average loss epoch 21: 0.35384415465218205\n",
      "Average loss epoch 22: 0.35291586719053886\n",
      "Average loss epoch 23: 0.3477450754745301\n",
      "Average loss epoch 24: 0.3456261365702658\n",
      "Average loss epoch 25: 0.34350250810732097\n",
      "Average loss epoch 26: 0.3443005845332757\n",
      "Average loss epoch 27: 0.338602733084094\n",
      "Average loss epoch 28: 0.3393546059415057\n",
      "Average loss epoch 29: 0.3371119789935492\n",
      "Total time: 11.518672943115234 seconds\n",
      "Optimization Finished!\n",
      "Accuracy 0.9113\n"
     ]
    }
   ],
   "source": [
    "# Step 6: define training op\n",
    "#using gradient descent with learning rate of 0.01 to minimize loss\n",
    "\n",
    "optimizer = tf.train.GradientDescentOptimizer(learning_rate).minimize(loss)\n",
    "\n",
    "with tf.Session() as sess:\n",
    "    # to visualize using TensorBoard\n",
    "    \n",
    "    merged = tf.summary.merge_all()  #合并到Summary中    \n",
    "    writer = tf.summary.FileWriter('./graphs/logistic_reg', sess.graph)\n",
    "    \n",
    "    start_time = time.time()\n",
    "    sess.run(tf.global_variables_initializer())\n",
    "    n_batches = int(mnist.train.num_examples/batch_size)\n",
    "    # train the model n_epochs times\n",
    "    for i in range(n_epochs):\n",
    "        total_loss = 0\n",
    "        \n",
    "        for _ in range(n_batches):\n",
    "            X_batch, Y_batch = mnist.train.next_batch(batch_size)\n",
    "            _, loss_batch = sess.run([optimizer, loss], feed_dict={X: X_batch, Y:Y_batch})\n",
    "            total_loss += loss_batch\n",
    "        print ('Average loss epoch {0}: {1}'.format(i, total_loss/n_batches))\n",
    "        \n",
    "    print ('Total time: {0} seconds'.format(time.time() - start_time))\n",
    "    \n",
    "    #should be around 0.35 after 25 epochs\n",
    "    print('Optimization Finished!')\n",
    "    \n",
    "    #test the model\n",
    "    n_batches = int(mnist.test.num_examples/batch_size)\n",
    "    total_correct_preds = 0\n",
    "    for i in range(n_batches):\n",
    "        X_batch, Y_batch = mnist.test.next_batch(batch_size)\n",
    "        _, loss_batch, logits_batch = sess.run([optimizer, loss, y_predicted], feed_dict={X: X_batch, Y: Y_batch})\n",
    "        preds = tf.nn.softmax(logits_batch)\n",
    "        correct_preds = tf.equal(tf.argmax(preds, 1), tf.argmax(Y_batch, 1))\n",
    "        accuracy = tf.reduce_sum(tf.cast(correct_preds, tf.float32))\n",
    "        total_correct_preds += sess.run(accuracy)\n",
    "        \n",
    "    print ('Accuracy {0}'.format(total_correct_preds/mnist.test.num_examples))\n",
    "\n",
    "    writer.close()\n"
   ]
  },
  {
   "cell_type": "markdown",
   "metadata": {},
   "source": [
    "<img src=\"./graphs/logistic_reg/graph_large_attrs_key=_too_large_attrs&limit_attr_size=1024&run= (1).png\" >"
   ]
  },
  {
   "cell_type": "code",
   "execution_count": null,
   "metadata": {},
   "outputs": [],
   "source": []
  }
 ],
 "metadata": {
  "kernelspec": {
   "display_name": "Python 3",
   "language": "python",
   "name": "python3"
  },
  "language_info": {
   "codemirror_mode": {
    "name": "ipython",
    "version": 3
   },
   "file_extension": ".py",
   "mimetype": "text/x-python",
   "name": "python",
   "nbconvert_exporter": "python",
   "pygments_lexer": "ipython3",
   "version": "3.5.2"
  }
 },
 "nbformat": 4,
 "nbformat_minor": 2
}

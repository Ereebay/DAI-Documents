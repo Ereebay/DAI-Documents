{
 "cells": [
  {
   "cell_type": "markdown",
   "metadata": {},
   "source": [
    "##  tf.train.Saver()\n",
    "用于保存训练好的模型，以及在程序中读取以保存的训练好的模型\n",
    "\n",
    "使用：\n",
    "保存和恢复都需要实例化一个 tf.train.Saver。  \n",
    "\t• saver = tf.train.Saver()  \n",
    "然后，在训练循环中，定期调用 saver.save() 方法，向文件夹中写入包含了当前模型中所有可训练变量的 checkpoint 文件。\n",
    "\n",
    "   • saver.save(sess, FLAGS.train_dir, global_step=step)  \n",
    "之后，就可以使用 saver.restore() 方法，重载模型的参数，继续训练或用于测试数据。  \n",
    "\t• saver.restore(sess, FLAGS.train_dir)  \n",
    "\n",
    "一次 saver.save() 后可以在文件夹中看到新增的四个文件，  \n",
    "\n",
    "实际上每调用一次保存操作会创建后3个数据文件并创建一个检查点（checkpoint）文件，简单理解就是权重等参数被保存到 .chkp.data 文件中，以字典的形式；图和元数据被保存到 .chkp.meta 文件中，可以被 tf.train.import_meta_graph 加载到当前默认的图。\n",
    "注：\n",
    "\t1. saver 的操作必须在 sess 建立后进行。\n",
    "\t2. model.ckpt 必须存在给定文件夹中，'tmp/model.ckpt' 这里至少要有一层文件夹，否则无法保存。\n",
    "\t3. 恢复模型时同保存时一样，是 ‘tmp/model.ckpt’，和那3个文件名都不一样。  \n",
    "   4. ckpt.model_checkpoint_path：表示模型存储的位置，不需要提供模型的名字，它会去查看checkpoint文件，看看最新的是谁，叫做什么。  "
   ]
  },
  {
   "cell_type": "markdown",
   "metadata": {},
   "source": [
    "### 简单模型实现"
   ]
  },
  {
   "cell_type": "code",
   "execution_count": 1,
   "metadata": {},
   "outputs": [
    {
     "name": "stdout",
     "output_type": "stream",
     "text": [
      "INFO:tensorflow:Restoring parameters from backup/model.ckpt\n",
      "迭代次数：0 , 训练损失：0.002868192\n",
      "迭代次数：50 , 训练损失：0.0027114588\n",
      "迭代次数：100 , 训练损失：0.0026606754\n",
      "迭代次数：150 , 训练损失：0.0026240018\n",
      "迭代次数：200 , 训练损失：0.0025948144\n",
      "迭代次数：250 , 训练损失：0.002568537\n",
      "迭代次数：300 , 训练损失：0.002544847\n",
      "迭代次数：350 , 训练损失：0.0025259333\n",
      "迭代次数：400 , 训练损失：0.0025085737\n",
      "迭代次数：450 , 训练损失：0.0024923694\n",
      "迭代次数：500 , 训练损失：0.0024754808\n",
      "迭代次数：550 , 训练损失：0.0024585258\n",
      "迭代次数：600 , 训练损失：0.0024425674\n",
      "迭代次数：650 , 训练损失：0.002428894\n",
      "迭代次数：700 , 训练损失：0.0024166068\n",
      "迭代次数：750 , 训练损失：0.002405624\n",
      "迭代次数：800 , 训练损失：0.0023958134\n",
      "迭代次数：850 , 训练损失：0.002386607\n",
      "迭代次数：900 , 训练损失：0.002378231\n",
      "迭代次数：950 , 训练损失：0.0023707196\n"
     ]
    }
   ],
   "source": [
    "import tensorflow as tf  \n",
    "import numpy as np  \n",
    "import os  \n",
    "  \n",
    "#用numpy产生数据  \n",
    "x_data = np.linspace(-1,1,300)[:, np.newaxis] #转置  \n",
    "noise = np.random.normal(0,0.05, x_data.shape)  \n",
    "y_data = np.square(x_data)-0.5+noise  \n",
    "  \n",
    "#输入层  \n",
    "x_ph = tf.placeholder(tf.float32, [None, 1])  \n",
    "y_ph = tf.placeholder(tf.float32, [None, 1])  \n",
    "  \n",
    "#隐藏层  \n",
    "w1 = tf.Variable(tf.random_normal([1,10]))  \n",
    "b1 = tf.Variable(tf.zeros([1,10])+0.1)  \n",
    "wx_plus_b1 = tf.matmul(x_ph, w1) + b1  \n",
    "hidden = tf.nn.relu(wx_plus_b1)  \n",
    "  \n",
    "#输出层  \n",
    "w2 = tf.Variable(tf.random_normal([10,1]))  \n",
    "b2 = tf.Variable(tf.zeros([1,1])+0.1)  \n",
    "wx_plus_b2 = tf.matmul(hidden, w2) + b2  \n",
    "y = wx_plus_b2  \n",
    "  \n",
    "#损失  \n",
    "loss = tf.reduce_mean(tf.reduce_sum(tf.square(y_ph-y),reduction_indices=[1]))  \n",
    "train_op = tf.train.GradientDescentOptimizer(0.1).minimize(loss)  \n",
    "  \n",
    "#保存模型对象saver  \n",
    "saver = tf.train.Saver()  \n",
    "  \n",
    "#判断模型保存路径是否存在，不存在就创建  \n",
    "if not os.path.exists('backup/'):  \n",
    "    os.mkdir('backup/')  \n",
    "  \n",
    "#初始化  \n",
    "with tf.Session() as sess:  \n",
    "    if os.path.exists('backup/checkpoint'):         #判断模型是否存在  \n",
    "        saver.restore(sess, 'backup/model.ckpt')    #存在就从模型中恢复变量  \n",
    "    else:  \n",
    "        init = tf.global_variables_initializer() #不存在就初始化变量  \n",
    "        sess.run(init)  \n",
    "  \n",
    "    for i in range(1000):  \n",
    "        _,loss_value = sess.run([train_op,loss], feed_dict={x_ph:x_data, y_ph:y_data})  \n",
    "        if(i%50==0):  \n",
    "            save_path = saver.save(sess, 'backup/model.ckpt')  \n",
    "            print(\"迭代次数：%d , 训练损失：%s\"%(i, loss_value))  "
   ]
  },
  {
   "cell_type": "code",
   "execution_count": null,
   "metadata": {},
   "outputs": [],
   "source": []
  }
 ],
 "metadata": {
  "kernelspec": {
   "display_name": "Python 3",
   "language": "python",
   "name": "python3"
  },
  "language_info": {
   "codemirror_mode": {
    "name": "ipython",
    "version": 3
   },
   "file_extension": ".py",
   "mimetype": "text/x-python",
   "name": "python",
   "nbconvert_exporter": "python",
   "pygments_lexer": "ipython3",
   "version": "3.5.2"
  }
 },
 "nbformat": 4,
 "nbformat_minor": 2
}

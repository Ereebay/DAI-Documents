{
 "cells": [
  {
   "cell_type": "markdown",
   "metadata": {},
   "source": [
    "## 高斯拉普拉斯/拉普拉斯算子\n",
    "\n",
    "具有像素强度值I（x，y）的图像 的拉普拉斯算子L（x，y）由下式给出：\n",
    "\n",
    "<img src=\"https://img-blog.csdn.net/20130628165100984?watermark/2/text/aHR0cDovL2Jsb2cuY3Nkbi5uZXQvc3VubnkyMDM4/font/5a6L5L2T/fontsize/400/fill/I0JBQkFCMA==/dissolve/70/gravity/Center\">\n",
    "\n",
    "这可以使用卷积滤波器来计算 。 \n",
    "由于输入图像表示为一组离散像素，我们必须找到一个离散卷积核函数，它可以近似拉普拉斯定义中的二阶导数。图1显示了两个常用的小内核。\n",
    "\t\n",
    "<img src=\"http://homepages.inf.ed.ac.uk/rbf/HIPR2/figs/lapmask2.gif\">\n",
    "\t\n",
    "\t       图1拉普拉斯滤波器的两个常用离散近似。（注意，我们用负峰定义了拉普拉斯算子，因为这更常见;但是，用正峰同样有效。）\n",
    "使用这些内核之一，可以使用标准卷积方法来计算拉普拉斯算子。\n",
    "\n",
    "由于这些内核近似于图像上的二阶导数测量，因此它们对噪声非常敏感。为了解决这个问题，在应用拉普拉斯滤波器之前，图像经常被高斯平滑。该预处理步骤在分化步骤之前减少高频噪声分量。\n"
   ]
  },
  {
   "cell_type": "markdown",
   "metadata": {},
   "source": [
    "### 函数原型\n",
    "在OpenCV-Python中，Laplace算子的函数原型如下：\n",
    "\n",
    "dst = cv2.Laplacian(src, ddepth[, dst[, ksize[, scale[, delta[, borderType]]]]]) \n",
    "\n",
    "前两个是必须的参数：\n",
    "\n",
    "src -- 需要处理的图像；\n",
    "\n",
    "ddepth -- 图像的深度，-1表示采用的是与原图像相同的深度。目标图像的深度必须大于等于原图像的深度；\n",
    "\n",
    "其后是可选的参数：\n",
    "\n",
    "dst --  结果图像\n",
    "\n",
    "ksize  --  算子的大小，必须为1、3、5、7。默认为1。\n",
    "\n",
    "scale  --  缩放导数的比例常数，默认情况下没有伸缩系数；\n",
    "\n",
    "delta  一  可选的增量，将会加到最终的dst中，同样，默认情况下没有额外的值加到dst中；\n",
    "\n",
    "borderType -- 判断图像边界的模式。这个参数默认值为cv2.BORDER_DEFAULT。"
   ]
  },
  {
   "cell_type": "code",
   "execution_count": 8,
   "metadata": {},
   "outputs": [],
   "source": [
    "import cv2  \n",
    "import numpy as np    \n",
    "  \n",
    "img = cv2.imread(\"picture/e01.jpg\", 0)  \n",
    "\n",
    "\n",
    "gray_lap = cv2.Laplacian(img,cv2.CV_16S,ksize = 3)  \n",
    "dst = cv2.convertScaleAbs(gray_lap)  \n",
    "\n",
    "cv2.imshow(\"source\", img)\n",
    "cv2.imshow('laplacian',dst)  \n",
    "cv2.waitKey(0)  \n",
    "cv2.destroyAllWindows()  \n",
    "\n"
   ]
  },
  {
   "cell_type": "markdown",
   "metadata": {},
   "source": [
    "是否考虑sobel算子？"
   ]
  },
  {
   "cell_type": "code",
   "execution_count": null,
   "metadata": {},
   "outputs": [],
   "source": []
  }
 ],
 "metadata": {
  "kernelspec": {
   "display_name": "Python 3",
   "language": "python",
   "name": "python3"
  },
  "language_info": {
   "codemirror_mode": {
    "name": "ipython",
    "version": 3
   },
   "file_extension": ".py",
   "mimetype": "text/x-python",
   "name": "python",
   "nbconvert_exporter": "python",
   "pygments_lexer": "ipython3",
   "version": "3.5.2"
  }
 },
 "nbformat": 4,
 "nbformat_minor": 2
}
